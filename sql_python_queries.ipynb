{
 "cells": [
  {
   "cell_type": "code",
   "execution_count": 30,
   "id": "f3912147-1363-41f3-9269-2d82de4eddf2",
   "metadata": {},
   "outputs": [],
   "source": [
    "import sqlite3\n",
    "import pandas as pd\n",
    "import matplotlib.pyplot as plt"
   ]
  },
  {
   "cell_type": "code",
   "execution_count": 59,
   "id": "44f8e98e-8198-4dde-bd17-bc60d81d0492",
   "metadata": {},
   "outputs": [],
   "source": [
    "# 1. Connect (creates sales_data.db if not exists)\n",
    "conn = sqlite3.connect(\"sales_data.db\")\n",
    "cursor = conn.cursor()"
   ]
  },
  {
   "cell_type": "code",
   "execution_count": 32,
   "id": "e42d47f2-82ba-4830-9e0f-19b8c6be083a",
   "metadata": {},
   "outputs": [
    {
     "data": {
      "text/plain": [
       "<sqlite3.Cursor at 0x1cb4e662540>"
      ]
     },
     "execution_count": 32,
     "metadata": {},
     "output_type": "execute_result"
    }
   ],
   "source": [
    "# 2. Create table\n",
    "cursor.execute(\"\"\"\n",
    "CREATE TABLE IF NOT EXISTS sales (\n",
    "    order_id INTEGER PRIMARY KEY,\n",
    "    product TEXT,\n",
    "    quantity INTEGER,\n",
    "    price REAL\n",
    ")\n",
    "\"\"\")"
   ]
  },
  {
   "cell_type": "code",
   "execution_count": 33,
   "id": "4a55db60-c628-4c51-a56e-0d99b98638fc",
   "metadata": {},
   "outputs": [],
   "source": [
    "# 3. Insert sample data (only for demo)\n",
    "sample_data = [\n",
    "    (1, \"Apples\", 10, 2.5),\n",
    "    (2, \"Bananas\", 5, 1.2),\n",
    "    (3, \"Oranges\", 8, 1.8),\n",
    "    (4, \"Apples\", 6, 2.5),\n",
    "    (5, \"Bananas\", 9, 1.2)\n",
    "]\n",
    "cursor.executemany(\"INSERT OR IGNORE INTO sales VALUES (?, ?, ?, ?)\", sample_data)\n",
    "conn.commit()"
   ]
  },
  {
   "cell_type": "code",
   "execution_count": 37,
   "id": "ba56930c-b4fa-4534-a5a9-507d2735429c",
   "metadata": {},
   "outputs": [
    {
     "name": "stdout",
     "output_type": "stream",
     "text": [
      "=== Basic Sales Summary ===\n",
      "   product  total_qty  revenue\n",
      "0   Apples         16     40.0\n",
      "1  Bananas         14     16.8\n",
      "2  Oranges          8     14.4\n"
     ]
    }
   ],
   "source": [
    "# 5. Print results\n",
    "print(\"=== Basic Sales Summary ===\")\n",
    "print(df)"
   ]
  },
  {
   "cell_type": "code",
   "execution_count": 58,
   "id": "ed5f70d7-9718-4650-8cb0-fe31aeb07f04",
   "metadata": {},
   "outputs": [
    {
     "data": {
      "image/png": "[encoded data removed]",
      "text/plain": [
       "<Figure size 640x480 with 1 Axes>"
      ]
     },
     "metadata": {},
     "output_type": "display_data"
    }
   ],
   "source": [
    "# 6. Plot chart\n",
    "# showing how many each products are there in dataset\n",
    "df.plot(kind=\"bar\", x=\"product\", y=\"revenue\", legend=False)\n",
    "plt.title(\"Revenue by Product\")\n",
    "plt.xlabel(\"Product\")\n",
    "plt.ylabel(\"Revenue\")\n",
    "plt.tight_layout()\n",
    "plt.show()"
   ]
  },
  {
   "cell_type": "markdown",
   "id": "81093f03-520a-4c17-81ec-21662001a6b6",
   "metadata": {},
   "source": [
    "### Basic questions and Answers"
   ]
  },
  {
   "cell_type": "code",
   "execution_count": null,
   "id": "b1ea2a0a-c44f-43d4-9a70-00cf4916f05c",
   "metadata": {},
   "outputs": [],
   "source": [
    "# what is highest revenue product?"
   ]
  },
  {
   "cell_type": "code",
   "execution_count": 46,
   "id": "6fbf3cb6-89c2-4051-9868-bdbf260d2fc6",
   "metadata": {},
   "outputs": [
    {
     "name": "stdout",
     "output_type": "stream",
     "text": [
      "  product  revenue\n",
      "0  Apples     40.0\n"
     ]
    }
   ],
   "source": [
    "query2 = \"\"\"\n",
    "SELECT product, SUM(quantity*price) AS revenue\n",
    "FROM sales\n",
    "GROUP BY product\n",
    "ORDER BY revenue DESC\n",
    "LIMIT 1\n",
    "\"\"\"\n",
    "df2 = pd.read_sql_query(query2, conn)\n",
    "print(df2)"
   ]
  },
  {
   "cell_type": "code",
   "execution_count": 51,
   "id": "9187536d-5305-467c-812c-fa193d59a3a7",
   "metadata": {},
   "outputs": [],
   "source": [
    "# what is avg sales?"
   ]
  },
  {
   "cell_type": "code",
   "execution_count": 52,
   "id": "de808b60-5b0f-4526-9469-c6aae1bf5478",
   "metadata": {},
   "outputs": [
    {
     "name": "stdout",
     "output_type": "stream",
     "text": [
      "   avg_order_value\n",
      "0            14.24\n"
     ]
    }
   ],
   "source": [
    "query3 = \"\"\"\n",
    "SELECT AVG(quantity * price) AS avg_order_value FROM sales;\n",
    "\"\"\"\n",
    "df3 = pd.read_sql_query(query3, conn)\n",
    "print(df3)"
   ]
  },
  {
   "cell_type": "code",
   "execution_count": null,
   "id": "d1a9ca7b-4fa6-449b-bc06-59511ff9539e",
   "metadata": {},
   "outputs": [],
   "source": [
    "# what Total quantity and revenue by product?"
   ]
  },
  {
   "cell_type": "code",
   "execution_count": 54,
   "id": "abc43f4c-9cae-4547-8942-b607157b5284",
   "metadata": {},
   "outputs": [
    {
     "name": "stdout",
     "output_type": "stream",
     "text": [
      "   product  total_qty  revenue\n",
      "0   Apples         16     40.0\n",
      "1  Bananas         14     16.8\n",
      "2  Oranges          8     14.4\n"
     ]
    }
   ],
   "source": [
    "query4 = \"\"\"\n",
    "SELECT product, SUM(quantity) AS total_qty, SUM(quantity*price) AS revenue\n",
    "FROM sales\n",
    "GROUP BY product;\n",
    "\"\"\"\n",
    "df4 = pd.read_sql_query(query4, conn)\n",
    "print(df4)"
   ]
  },
  {
   "cell_type": "code",
   "execution_count": null,
   "id": "85f166d2-ea84-41aa-8529-e5184d1c42f7",
   "metadata": {},
   "outputs": [],
   "source": [
    "#what is total_orders?"
   ]
  },
  {
   "cell_type": "code",
   "execution_count": 55,
   "id": "510e73fa-a200-42ca-9268-56a5901325b7",
   "metadata": {},
   "outputs": [
    {
     "name": "stdout",
     "output_type": "stream",
     "text": [
      "   total_orders\n",
      "0             5\n"
     ]
    }
   ],
   "source": [
    "query5 = \"\"\"\n",
    "SELECT COUNT(*) AS total_orders FROM sales;\n",
    "\"\"\"\n",
    "df5 = pd.read_sql_query(query5, conn)\n",
    "print(df5)\n"
   ]
  },
  {
   "cell_type": "code",
   "execution_count": null,
   "id": "37015157-415e-4cb1-80cc-40255a8b81e5",
   "metadata": {},
   "outputs": [],
   "source": [
    "#closing the database connect to that file where data is present "
   ]
  },
  {
   "cell_type": "code",
   "execution_count": 56,
   "id": "4b33addf-e11c-48b7-8ba6-85c8a16db460",
   "metadata": {},
   "outputs": [],
   "source": [
    "conn.close()"
   ]
  },
  {
   "cell_type": "code",
   "execution_count": 61,
   "id": "59a27f0b-f3ac-4cf5-9456-a3193aa93901",
   "metadata": {},
   "outputs": [],
   "source": [
    "# Connect to database\n",
    "conn = sqlite3.connect(\"sales_data.db\")\n",
    "with open(\"sales_data.sql\", \"w\") as f:\n",
    "    for line in conn.iterdump():   # iterdump generates all SQL commands\n",
    "        f.write(f\"{line}\\n\")\n",
    "conn.close()\n"
   ]
  },
  {
   "cell_type": "code",
   "execution_count": null,
   "id": "7e7da5cd-0917-471f-8e75-4cef533b0321",
   "metadata": {},
   "outputs": [],
   "source": []
  },
  {
   "cell_type": "code",
   "execution_count": null,
   "id": "964fc1c0-3135-4aff-b69f-052d38becc9c",
   "metadata": {},
   "outputs": [],
   "source": []
  },
  {
   "cell_type": "code",
   "execution_count": null,
   "id": "63841b0f-4a9c-4f7a-b52e-53bd223a188d",
   "metadata": {},
   "outputs": [],
   "source": []
  },
  {
   "cell_type": "code",
   "execution_count": null,
   "id": "3e6224df-5ece-4e3b-9df6-c12a7901306a",
   "metadata": {},
   "outputs": [],
   "source": []
  },
  {
   "cell_type": "code",
   "execution_count": null,
   "id": "dfad7451-6f47-4c3a-b47b-fecef009642c",
   "metadata": {},
   "outputs": [],
   "source": []
  }
 ],
 "metadata": {
  "kernelspec": {
   "display_name": "Python [conda env:base] *",
   "language": "python",
   "name": "conda-base-py"
  },
  "language_info": {
   "codemirror_mode": {
    "name": "ipython",
    "version": 3
   },
   "file_extension": ".py",
   "mimetype": "text/x-python",
   "name": "python",
   "nbconvert_exporter": "python",
   "pygments_lexer": "ipython3",
   "version": "3.13.5"
  }
 },
 "nbformat": 4,
 "nbformat_minor": 5
}
